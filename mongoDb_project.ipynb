{
 "cells": [
  {
   "cell_type": "code",
   "execution_count": 1,
   "id": "0114559e-eb93-4977-bca6-42808d90c2f7",
   "metadata": {},
   "outputs": [
    {
     "name": "stdout",
     "output_type": "stream",
     "text": [
      "Collecting pymongo\n",
      "  Downloading pymongo-4.8.0-cp311-cp311-macosx_10_9_x86_64.whl.metadata (22 kB)\n",
      "Collecting dnspython<3.0.0,>=1.16.0 (from pymongo)\n",
      "  Downloading dnspython-2.6.1-py3-none-any.whl.metadata (5.8 kB)\n",
      "Downloading pymongo-4.8.0-cp311-cp311-macosx_10_9_x86_64.whl (645 kB)\n",
      "\u001b[2K   \u001b[90m━━━━━━━━━━━━━━━━━━━━━━━━━━━━━━━━━━━━━━━━\u001b[0m \u001b[32m645.6/645.6 kB\u001b[0m \u001b[31m5.7 MB/s\u001b[0m eta \u001b[36m0:00:00\u001b[0m00:01\u001b[0m00:01\u001b[0m\n",
      "\u001b[?25hDownloading dnspython-2.6.1-py3-none-any.whl (307 kB)\n",
      "\u001b[2K   \u001b[90m━━━━━━━━━━━━━━━━━━━━━━━━━━━━━━━━━━━━━━━━\u001b[0m \u001b[32m307.7/307.7 kB\u001b[0m \u001b[31m9.5 MB/s\u001b[0m eta \u001b[36m0:00:00\u001b[0m\n",
      "\u001b[?25hInstalling collected packages: dnspython, pymongo\n",
      "Successfully installed dnspython-2.6.1 pymongo-4.8.0\n"
     ]
    }
   ],
   "source": [
    "!pip install pymongo\n",
    "import json\n",
    "\n",
    "with open('config.json') as config_file:\n",
    "    config = json.load(config_file)\n",
    "mongo_uri = config['MONGO_URI']\n",
    "\n",
    "\n",
    "from pymongo import MongoClient\n",
    "import pandas as pd\n",
    "import hashlib\n"
   ]
  },
  {
   "cell_type": "code",
   "execution_count": 2,
   "id": "70f9c0c4-0c0c-463b-8e1b-05f0967fd6e6",
   "metadata": {},
   "outputs": [],
   "source": [
    "atlas_client = MongoClient(mongo_uri)\n",
    "db = atlas_client['stock_db']\n",
    "collection = db['stocks']\n",
    "metadata_collection = db['metadata']"
   ]
  },
  {
   "cell_type": "code",
   "execution_count": 3,
   "id": "1d3e1219-06da-474b-aee2-a63108a1d03b",
   "metadata": {},
   "outputs": [],
   "source": [
    "def calculate_file_hash(file_path):\n",
    "    hasher = hashlib.md5()\n",
    "    with open(file_path, 'rb') as file:\n",
    "        buf = file.read()\n",
    "        hasher.update(buf)\n",
    "    return hasher.hexdigest()\n"
   ]
  },
  {
   "cell_type": "code",
   "execution_count": 4,
   "id": "9c337611-3d00-42dd-8cc1-0b38ba19d377",
   "metadata": {},
   "outputs": [],
   "source": [
    "def file_already_loaded(file_hash):\n",
    "    return metadata_collection.find_one({\"file_hash\": file_hash}) is not None\n",
    "\n",
    "def save_file_metadata(file_path, file_hash):\n",
    "    metadata = {\n",
    "        \"file_name\": file_path,\n",
    "        \"file_hash\": file_hash,\n",
    "        \"loaded_at\": pd.Timestamp.now()\n",
    "    }\n",
    "    metadata_collection.insert_one(metadata)\n"
   ]
  },
  {
   "cell_type": "code",
   "execution_count": 5,
   "id": "f9585cb1-0b46-4e80-8f61-6ea441b44d03",
   "metadata": {},
   "outputs": [],
   "source": [
    "def load_csv_to_mongodb(file_path):\n",
    "    file_hash = calculate_file_hash(file_path)\n",
    "    if file_already_loaded(file_hash):\n",
    "        print(f\"File {file_path} has already been loaded previously.\")\n",
    "        return\n",
    "    \n",
    "    df = pd.read_csv(file_path)\n",
    "    collection.insert_many(df.to_dict('records'))\n",
    "    save_file_metadata(file_path, file_hash)\n",
    "    print(f\"Data from the file {file_path} has been loaded successfully.\")\n"
   ]
  },
  {
   "cell_type": "code",
   "execution_count": 20,
   "id": "99ea19af-f79a-4149-8618-9785d2893e32",
   "metadata": {},
   "outputs": [],
   "source": [
    "## START The Process"
   ]
  },
  {
   "cell_type": "code",
   "execution_count": 6,
   "id": "f3afa835-035e-4acd-948c-36a9b85dc090",
   "metadata": {},
   "outputs": [
    {
     "name": "stdout",
     "output_type": "stream",
     "text": [
      "File ./all_stocks_5yr.csv has already been loaded previously.\n"
     ]
    }
   ],
   "source": [
    "csv_path = './all_stocks_5yr.csv'\n",
    "load_csv_to_mongodb(csv_path)"
   ]
  },
  {
   "cell_type": "code",
   "execution_count": 26,
   "id": "4fc584fc-e84f-4c77-8f2b-3e3e239cb0eb",
   "metadata": {},
   "outputs": [
    {
     "data": {
      "text/html": [
       "<div>\n",
       "<style scoped>\n",
       "    .dataframe tbody tr th:only-of-type {\n",
       "        vertical-align: middle;\n",
       "    }\n",
       "\n",
       "    .dataframe tbody tr th {\n",
       "        vertical-align: top;\n",
       "    }\n",
       "\n",
       "    .dataframe thead th {\n",
       "        text-align: right;\n",
       "    }\n",
       "</style>\n",
       "<table border=\"1\" class=\"dataframe\">\n",
       "  <thead>\n",
       "    <tr style=\"text-align: right;\">\n",
       "      <th></th>\n",
       "      <th>_id</th>\n",
       "      <th>date</th>\n",
       "      <th>open</th>\n",
       "      <th>high</th>\n",
       "      <th>low</th>\n",
       "      <th>close</th>\n",
       "      <th>volume</th>\n",
       "      <th>Name</th>\n",
       "    </tr>\n",
       "  </thead>\n",
       "  <tbody>\n",
       "    <tr>\n",
       "      <th>0</th>\n",
       "      <td>66972da16ad46174a727aa86</td>\n",
       "      <td>2013-02-12</td>\n",
       "      <td>14.45</td>\n",
       "      <td>14.51</td>\n",
       "      <td>14.10</td>\n",
       "      <td>14.27</td>\n",
       "      <td>8126000</td>\n",
       "      <td>AAL</td>\n",
       "    </tr>\n",
       "    <tr>\n",
       "      <th>1</th>\n",
       "      <td>66972da16ad46174a727aa84</td>\n",
       "      <td>2013-02-08</td>\n",
       "      <td>15.07</td>\n",
       "      <td>15.12</td>\n",
       "      <td>14.63</td>\n",
       "      <td>14.75</td>\n",
       "      <td>8407500</td>\n",
       "      <td>AAL</td>\n",
       "    </tr>\n",
       "    <tr>\n",
       "      <th>2</th>\n",
       "      <td>66972da16ad46174a727aa8e</td>\n",
       "      <td>2013-02-25</td>\n",
       "      <td>13.60</td>\n",
       "      <td>13.76</td>\n",
       "      <td>13.00</td>\n",
       "      <td>13.02</td>\n",
       "      <td>7186400</td>\n",
       "      <td>AAL</td>\n",
       "    </tr>\n",
       "    <tr>\n",
       "      <th>3</th>\n",
       "      <td>66972da16ad46174a727aa95</td>\n",
       "      <td>2013-03-06</td>\n",
       "      <td>14.52</td>\n",
       "      <td>14.68</td>\n",
       "      <td>14.25</td>\n",
       "      <td>14.57</td>\n",
       "      <td>13243200</td>\n",
       "      <td>AAL</td>\n",
       "    </tr>\n",
       "    <tr>\n",
       "      <th>4</th>\n",
       "      <td>66972da16ad46174a727aa98</td>\n",
       "      <td>2013-03-11</td>\n",
       "      <td>14.85</td>\n",
       "      <td>15.15</td>\n",
       "      <td>14.71</td>\n",
       "      <td>15.13</td>\n",
       "      <td>6961800</td>\n",
       "      <td>AAL</td>\n",
       "    </tr>\n",
       "  </tbody>\n",
       "</table>\n",
       "</div>"
      ],
      "text/plain": [
       "                        _id        date   open   high    low  close    volume  \\\n",
       "0  66972da16ad46174a727aa86  2013-02-12  14.45  14.51  14.10  14.27   8126000   \n",
       "1  66972da16ad46174a727aa84  2013-02-08  15.07  15.12  14.63  14.75   8407500   \n",
       "2  66972da16ad46174a727aa8e  2013-02-25  13.60  13.76  13.00  13.02   7186400   \n",
       "3  66972da16ad46174a727aa95  2013-03-06  14.52  14.68  14.25  14.57  13243200   \n",
       "4  66972da16ad46174a727aa98  2013-03-11  14.85  15.15  14.71  15.13   6961800   \n",
       "\n",
       "  Name  \n",
       "0  AAL  \n",
       "1  AAL  \n",
       "2  AAL  \n",
       "3  AAL  \n",
       "4  AAL  "
      ]
     },
     "execution_count": 26,
     "metadata": {},
     "output_type": "execute_result"
    }
   ],
   "source": [
    "def get_data_from_mongodb():\n",
    "    data = list(collection.find())\n",
    "    df = pd.DataFrame(data)\n",
    "    return df\n",
    "\n",
    "df_mongo = get_data_from_mongodb()\n",
    "cleaned_df = df_mongo.dropna()\n",
    "cleaned_df.head()\n"
   ]
  }
 ],
 "metadata": {
  "kernelspec": {
   "display_name": "Python 3 (ipykernel)",
   "language": "python",
   "name": "python3"
  },
  "language_info": {
   "codemirror_mode": {
    "name": "ipython",
    "version": 3
   },
   "file_extension": ".py",
   "mimetype": "text/x-python",
   "name": "python",
   "nbconvert_exporter": "python",
   "pygments_lexer": "ipython3",
   "version": "3.11.7"
  }
 },
 "nbformat": 4,
 "nbformat_minor": 5
}
